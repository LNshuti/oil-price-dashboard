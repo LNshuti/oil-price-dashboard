{
 "cells": [
  {
   "cell_type": "code",
   "execution_count": null,
   "metadata": {},
   "outputs": [],
   "source": [
    "from statsforecast.models import AutoARIMA\n",
    "from statsmodels.tsa.stattools import acf \n",
    "import pandas as pd \n",
    "import lineapy\n",
    "import requests \n",
    "import re \n",
    "import numpy as np\n",
    "from numpy.linalg import svd\n",
    "import altair as alt"
   ]
  },
  {
   "cell_type": "code",
   "execution_count": null,
   "metadata": {},
   "outputs": [],
   "source": [
    "#NBVAL_SKIP\n",
    "!pip -q install lineapy~=0.2 scikit-learn pandas matplotlib"
   ]
  },
  {
   "cell_type": "code",
   "execution_count": null,
   "metadata": {},
   "outputs": [],
   "source": [
    "%load_ext lineapy \n",
    "#%load_ext nb_black"
   ]
  },
  {
   "cell_type": "code",
   "execution_count": null,
   "metadata": {},
   "outputs": [],
   "source": [
    "response = requests.get(\"https://www.eia.gov/petroleum/gasdiesel/xls/pswrgvwall.xls\")\n",
    "df = pd.read_excel(\n",
    "    response.content,\n",
    "    sheet_name=\"Data 12\",\n",
    "    index_col=0,\n",
    "    skiprows=2,\n",
    "    parse_dates=[\"Date\"],\n",
    ").rename(\n",
    "    columns=lambda c: re.sub(\n",
    "        \"\\(PADD 1[A-C]\\)\",\n",
    "        \"\",\n",
    "        c.replace(\"Weekly \", \"\").replace(\n",
    "            \" All Grades All Formulations Retail Gasoline Prices  (Dollars per Gallon)\",\n",
    "            \"\",\n",
    "        ),\n",
    "    ).strip()\n",
    ")\n",
    "lineapy.save(df, \"weekly_gas_price_data\")"
   ]
  },
  {
   "cell_type": "code",
   "execution_count": null,
   "metadata": {},
   "outputs": [],
   "source": [
    "df_long = (\n",
    "    df.reset_index()\n",
    "    .melt(id_vars=[\"Date\"], var_name=\"region\", value_name=\"price\")\n",
    "    .rename(columns={\"Date\": \"week\"})\n",
    "    .sort_values([\"region\", \"week\"])\n",
    "    .assign(\n",
    "        # if we're missing one value, just use the last value\n",
    "        # (happens twice)\n",
    "        price=lambda x: x[\"price\"].combine_first(x.groupby(\"region\")[\"price\"].shift(1)),\n",
    "        # we'll forecast log(price) and then transform\n",
    "        log_price=lambda x: np.log(x[\"price\"]),\n",
    "        # percentage price changes are approximately the difference in log(price)\n",
    "        price_change=lambda x: (\n",
    "            x[\"log_price\"] - x.groupby(\"region\")[\"log_price\"].shift(1)\n",
    "        ),\n",
    "    )\n",
    "    .query(\"price == price\")  # filter out NAs\n",
    ")\n",
    "\n",
    "lineapy.save(df_long, \"weekly_gas_price_data_long\")\n",
    "df_long.head()"
   ]
  },
  {
   "cell_type": "code",
   "execution_count": null,
   "metadata": {},
   "outputs": [],
   "source": [
    "df_long.groupby(\"region\")[\"price\"].count().reset_index().pipe(alt.Chart).encode(\n",
    "    x=alt.X(\"price\", title=\"Cases\"), y=alt.Y(\"region\", sort=alt.SortField(\"price\"))\n",
    ").mark_bar()"
   ]
  },
  {
   "cell_type": "code",
   "execution_count": null,
   "metadata": {},
   "outputs": [],
   "source": [
    "df_long.groupby(\"week\")[\"price\"].count().reset_index().pipe(alt.Chart).encode(\n",
    "    x=\"week\", y=alt.Y(\"price\", title=\"Count\")\n",
    ").mark_line()"
   ]
  },
  {
   "cell_type": "code",
   "execution_count": null,
   "metadata": {},
   "outputs": [],
   "source": [
    "df_long[\"price_change\"].mean() * 52"
   ]
  },
  {
   "cell_type": "code",
   "execution_count": null,
   "metadata": {},
   "outputs": [],
   "source": [
    "(\n",
    "    df_long.query(\"price_change == price_change\")\n",
    "    .sample(5000)\n",
    "    .pipe(alt.Chart)\n",
    "    .transform_density(\"price_change\")\n",
    "    .encode(x=\"value:Q\", y=\"density:Q\")\n",
    "    .mark_area()\n",
    ")"
   ]
  },
  {
   "cell_type": "code",
   "execution_count": null,
   "metadata": {},
   "outputs": [],
   "source": [
    "all_regions = df_long[\"region\"].unique().tolist()\n",
    "lineapy.save(all_regions, \"all_regions\")\n",
    "num_regions = len(all_regions)\n",
    "num_regions"
   ]
  },
  {
   "cell_type": "code",
   "execution_count": null,
   "metadata": {},
   "outputs": [],
   "source": [
    "complete_case_date = (\n",
    "    df_long.groupby(\"week\")[\"price\"]\n",
    "    .count()\n",
    "    .reset_index()\n",
    "    .query(f\"price == {num_regions}\")[\"week\"]\n",
    "    .min()\n",
    ").strftime(\"%Y-%m-%d\")\n",
    "complete_case_date"
   ]
  },
  {
   "cell_type": "code",
   "execution_count": null,
   "metadata": {},
   "outputs": [],
   "source": [
    "(\n",
    "    df_long.groupby(\"region\")[\"price_change\"]\n",
    "    .mean()\n",
    "    .reset_index()\n",
    "    .assign(annual_price_change=lambda x: x[\"price_change\"] * 52)\n",
    "    .pipe(alt.Chart)\n",
    "    .encode(\n",
    "        x=alt.X(\"region\", sort=alt.SortField(\"annual_price_change\")),\n",
    "        y=alt.Y(\"annual_price_change\", title=\"Annual Price Growth\"),\n",
    "    )\n",
    "    .mark_bar()\n",
    ")"
   ]
  },
  {
   "cell_type": "code",
   "execution_count": null,
   "metadata": {},
   "outputs": [],
   "source": [
    "wide = (\n",
    "    df_long.query(f\"week > '{complete_case_date}'\")[[\"week\", \"region\", \"price_change\"]]\n",
    "    .set_index(\"week\")\n",
    "    .pivot(columns=\"region\", values=\"price_change\")\n",
    ")\n",
    "matrix = wide.values\n",
    "print(matrix.shape)\n",
    "u, d, v = svd(matrix)"
   ]
  },
  {
   "cell_type": "code",
   "execution_count": null,
   "metadata": {},
   "outputs": [],
   "source": [
    "scree_plot = (\n",
    "    pd.DataFrame({\"eigenvalue\": d, \"index\": np.arange(d.shape[0])})\n",
    "    .pipe(alt.Chart)\n",
    "    .encode(x=\"index\", y=\"eigenvalue\")\n",
    "    .mark_point()\n",
    ")\n",
    "\n",
    "lineapy.save(scree_plot, \"scree_plot\")\n",
    "scree_plot"
   ]
  },
  {
   "cell_type": "code",
   "execution_count": null,
   "metadata": {},
   "outputs": [],
   "source": [
    "components = pd.DataFrame(\n",
    "    v, columns=[f\"component_{i}\" for i in range(v.shape[0])], index=wide.columns\n",
    ").reset_index()\n",
    "\n",
    "components_plot = (\n",
    "    components.pipe(alt.Chart)\n",
    "    .encode(x=\"component_0\", y=\"component_1\", text=\"region\")\n",
    "    .mark_text()\n",
    "    .interactive()\n",
    ")\n",
    "\n",
    "lineapy.save(components_plot, \"components_plot\")\n",
    "components_plot"
   ]
  },
  {
   "cell_type": "code",
   "execution_count": null,
   "metadata": {},
   "outputs": [],
   "source": [
    "region = \"U.S.\"\n",
    "auto_correlation = (\n",
    "    df_long.query(f\"region == '{region}'\")\n",
    "    .query(\"price_change == price_change\")[\"price_change\"]\n",
    "    .pipe(acf)\n",
    ")\n",
    "acf_plot = (\n",
    "    pd.DataFrame({\"rho\": auto_correlation, \"lag\": np.arange(auto_correlation.shape[0])})\n",
    "    .pipe(alt.Chart, title=region)\n",
    "    .encode(x=\"lag\", y=\"rho\")\n",
    "    .mark_bar()\n",
    ")\n",
    "lineapy.save(acf_plot, \"acf_plot2\")\n",
    "acf_plot"
   ]
  },
  {
   "cell_type": "code",
   "execution_count": null,
   "metadata": {},
   "outputs": [],
   "source": [
    "H = 13\n",
    "CI = 80\n",
    "width = 300\n",
    "height = 250\n",
    "region = \"U.S.\"\n",
    "cutoff_date = \"2023-04-16\"\n",
    "plot_start_date = \"2022-01-01\"\n",
    "plot_title = f\"{region} (as of {cutoff_date})\""
   ]
  },
  {
   "cell_type": "code",
   "execution_count": null,
   "metadata": {},
   "outputs": [],
   "source": [
    "region_df = df_long.query(f\"region == '{region}'\")\n",
    "train = region_df.query(f\"week < '{cutoff_date}'\")\n",
    "m_aa = AutoARIMA()\n",
    "m_aa.fit(train[\"log_price\"].values)"
   ]
  },
  {
   "cell_type": "code",
   "execution_count": null,
   "metadata": {},
   "outputs": [],
   "source": [
    "raw_forecast = m_aa.predict(h=H, level=(CI,))\n",
    "raw_forecast_exp = {key: np.exp(value) for key, value in raw_forecast.items()}\n",
    "forecast = pd.DataFrame(raw_forecast_exp).assign(\n",
    "    week=pd.date_range(train[\"week\"].max(), periods=H, freq=\"W\")\n",
    "    + pd.Timedelta(\"7 days\")\n",
    ")\n",
    "forecast = pd.concat(\n",
    "    [\n",
    "        forecast,\n",
    "        train.tail(1)\n",
    "        .rename(columns={\"price\": \"mean\"})\n",
    "        .assign(**{f\"lo-{CI}\": lambda x: x[\"mean\"], f\"hi-{CI}\": lambda x: x[\"mean\"]}),\n",
    "    ]\n",
    ")\n",
    "forecast.head()"
   ]
  },
  {
   "cell_type": "code",
   "execution_count": null,
   "metadata": {},
   "outputs": [],
   "source": [
    "uncertainty_plot = (\n",
    "    forecast.pipe(alt.Chart, height=height, width=width)\n",
    "    .encode(\n",
    "        x=\"week\",\n",
    "        y=alt.Y(f\"lo-{CI}\", title=\"Price\"),\n",
    "        y2=alt.Y2(f\"hi-{CI}\", title=\"Price\"),\n",
    "    )\n",
    "    .mark_area(opacity=0.2)\n",
    ")\n",
    "\n",
    "history_plot = (\n",
    "    region_df.query(f\"week >= '{plot_start_date}'\")\n",
    "    .pipe(alt.Chart, title=plot_title)\n",
    "    .encode(x=alt.X(\"week\", title=\"Week\"), y=alt.Y(\"price\", title=\"Price\"))\n",
    "    .mark_line()\n",
    ")\n",
    "\n",
    "forecast_plot = forecast.pipe(alt.Chart).encode(x=\"week\", y=\"mean\").mark_line()\n",
    "\n",
    "cutoff_plot = (\n",
    "    train.tail(1).pipe(alt.Chart).encode(x=\"week\").mark_rule(strokeDash=[10, 2])\n",
    ")\n",
    "\n",
    "full_plot = uncertainty_plot + history_plot + forecast_plot + cutoff_plot\n",
    "lineapy.save(full_plot, \"gas_price_forecast\")"
   ]
  },
  {
   "cell_type": "code",
   "execution_count": null,
   "metadata": {},
   "outputs": [],
   "source": [
    "full_plot"
   ]
  },
  {
   "cell_type": "code",
   "execution_count": null,
   "metadata": {},
   "outputs": [],
   "source": [
    "forecast_region = lineapy.get_function(\n",
    "    [\"gas_price_forecast\"],\n",
    "    input_parameters=[\n",
    "        \"region\",\n",
    "        \"cutoff_date\",\n",
    "        \"H\",\n",
    "        \"width\",\n",
    "        \"height\",\n",
    "        \"plot_start_date\",\n",
    "    ],\n",
    "    reuse_pre_computed_artifacts=[\"weekly_gas_price_data_long\"],\n",
    ")"
   ]
  },
  {
   "cell_type": "code",
   "execution_count": null,
   "metadata": {},
   "outputs": [],
   "source": [
    "result = forecast_region(\n",
    "    region=\"California\", cutoff_date=\"2023-04-15\", H=15, width=300, height=250\n",
    ")\n",
    "result[\"gas_price_forecast\"]"
   ]
  },
  {
   "cell_type": "code",
   "execution_count": null,
   "metadata": {},
   "outputs": [],
   "source": [
    "plots = []\n",
    "for region in all_regions:\n",
    "    result = forecast_region(\n",
    "        region=region, cutoff_date=cutoff_date, height=200, width=200\n",
    "    )\n",
    "    plots.append(result[\"gas_price_forecast\"])"
   ]
  },
  {
   "cell_type": "code",
   "execution_count": null,
   "metadata": {},
   "outputs": [],
   "source": [
    "chart = alt.vconcat()\n",
    "for i, plot in enumerate(plots):\n",
    "    if i % 4 == 0:\n",
    "        row = alt.hconcat()\n",
    "        chart &= row\n",
    "    row |= plot\n",
    "chart"
   ]
  },
  {
   "cell_type": "code",
   "execution_count": null,
   "metadata": {},
   "outputs": [],
   "source": [
    "lineapy.save(chart, \"all_forecasts_plot\")"
   ]
  },
  {
   "cell_type": "code",
   "execution_count": null,
   "metadata": {},
   "outputs": [],
   "source": [
    "lineapy.to_pipeline(\n",
    "    [\"gas_price_forecast\", \"weekly_gas_price_data\", \"weekly_gas_price_data_long\"],\n",
    "    dependencies={\n",
    "        \"gas_price_forecast\": {\"weekly_gas_price_data_long\": {\"weekly_gas_price_data\"}}\n",
    "    },\n",
    "    pipeline_name=\"gas_price_forecast\",\n",
    "    output_dir=\"pipeline\",\n",
    "    framework=\"AIRFLOW\",\n",
    "    input_parameters=[\"region\", \"cutoff_date\"],\n",
    ")"
   ]
  },
  {
   "cell_type": "code",
   "execution_count": null,
   "metadata": {},
   "outputs": [],
   "source": [
    "%pycat pipeline/gas_price_forecast_dag.py"
   ]
  },
  {
   "cell_type": "code",
   "execution_count": null,
   "metadata": {},
   "outputs": [],
   "source": [
    "%pycat pipeline/gas_price_forecast_module.py"
   ]
  },
  {
   "cell_type": "code",
   "execution_count": null,
   "metadata": {},
   "outputs": [],
   "source": [
    "%pycat pipeline/gas_price_forecast_requirements.txt"
   ]
  }
 ],
 "metadata": {
  "kernelspec": {
   "display_name": "Python 3.8.13 ('base')",
   "language": "python",
   "name": "python3"
  },
  "language_info": {
   "codemirror_mode": {
    "name": "ipython",
    "version": 3
   },
   "file_extension": ".py",
   "mimetype": "text/x-python",
   "name": "python",
   "nbconvert_exporter": "python",
   "pygments_lexer": "ipython3",
   "version": "3.9.16"
  },
  "orig_nbformat": 4,
  "vscode": {
   "interpreter": {
    "hash": "c37c4153549f76b8e625b98f4dc386f46a1439faf4220b57a745a0f5c5697088"
   }
  }
 },
 "nbformat": 4,
 "nbformat_minor": 2
}
