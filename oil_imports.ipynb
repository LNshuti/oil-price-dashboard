{
  "nbformat": 4,
  "nbformat_minor": 0,
  "metadata": {
    "colab": {
      "provenance": [],
      "authorship_tag": "ABX9TyMCpwLHKspObFBWNsHH8y++",
      "include_colab_link": true
    },
    "kernelspec": {
      "name": "python3",
      "display_name": "Python 3"
    },
    "language_info": {
      "name": "python"
    }
  },
  "cells": [
    {
      "cell_type": "markdown",
      "metadata": {
        "id": "view-in-github",
        "colab_type": "text"
      },
      "source": [
        "<a href=\"https://colab.research.google.com/github/LNshuti/oil-price-dashboard/blob/main/oil_imports.ipynb\" target=\"_parent\"><img src=\"https://colab.research.google.com/assets/colab-badge.svg\" alt=\"Open In Colab\"/></a>"
      ]
    },
    {
      "cell_type": "code",
      "execution_count": 7,
      "metadata": {
        "id": "XRjkA3fEy_aE"
      },
      "outputs": [],
      "source": [
        "# Install necessary packages\n",
        "!pip install pandas numpy scikit-learn matplotlib seaborn statsmodels --quiet"
      ]
    },
    {
      "cell_type": "code",
      "source": [
        "# Import necessary libraries\n",
        "import pandas as pd\n",
        "import numpy as np\n",
        "import json\n",
        "import matplotlib.pyplot as plt\n",
        "import seaborn as sns\n",
        "import statsmodels.api as sm\n",
        "from sklearn.model_selection import train_test_split\n",
        "from sklearn.linear_model import LinearRegression\n",
        "from sklearn.metrics import mean_absolute_error, mean_squared_error"
      ],
      "metadata": {
        "id": "I1nP_i4i14ZG"
      },
      "execution_count": 12,
      "outputs": []
    },
    {
      "cell_type": "code",
      "source": [
        "# Load the data from the text file\n",
        "data = pd.read_csv('/content/PET_IMPORTS.txt', sep='\\t', header=None, names=['json_str'])\n",
        "\n",
        "# Function to parse JSON strings\n",
        "def parse_json_str(json_str):\n",
        "    return json.loads(json_str)\n",
        "\n",
        "# Apply the function to parse the JSON strings\n",
        "parsed_data = data['json_str'].apply(parse_json_str)\n",
        "\n",
        "# Create a DataFrame from the parsed JSON data\n",
        "data_df = pd.json_normalize(parsed_data)\n",
        "\n",
        "# Display the first few rows of the DataFrame\n",
        "print(data_df.head())"
      ],
      "metadata": {
        "colab": {
          "base_uri": "https://localhost:8080/"
        },
        "id": "1YiPoyM_7ymF",
        "outputId": "37d325dd-da3b-4d73-dc20-75558939d67f"
      },
      "execution_count": 13,
      "outputs": [
        {
          "output_type": "stream",
          "name": "stdout",
          "text": [
            "                         series_id  \\\n",
            "0  PET_IMPORTS.OPN_N-PT_2002-ALL.M   \n",
            "1    PET_IMPORTS.CTY_UK-PP_3-ALL.M   \n",
            "2    PET_IMPORTS.CTY_CA-RP_4-ALL.M   \n",
            "3   PET_IMPORTS.CTY_CA-RF_92-ALL.M   \n",
            "4   PET_IMPORTS.CTY_GH-PS_DE-ALL.M   \n",
            "\n",
            "                                                name             units  f  \\\n",
            "0  Imports of all grades of crude oil from Non-OP...  thousand barrels  M   \n",
            "1  Imports of all grades of crude oil from United...  thousand barrels  M   \n",
            "2  Imports of all grades of crude oil from Canada...  thousand barrels  M   \n",
            "3  Imports of all grades of crude oil from Canada...  thousand barrels  M   \n",
            "4  Imports of all grades of crude oil from Ghana ...  thousand barrels  M   \n",
            "\n",
            "  copyright                                       source       lat  \\\n",
            "0      None  EIA, U.S. Energy Information Administration   29.9728   \n",
            "1      None  EIA, U.S. Energy Information Administration       NaN   \n",
            "2      None  EIA, U.S. Energy Information Administration       NaN   \n",
            "3      None  EIA, U.S. Energy Information Administration  44.85094   \n",
            "4      None  EIA, U.S. Energy Information Administration       NaN   \n",
            "\n",
            "          lon                                          geography  \\\n",
            "0     -90.059  ABW+AGO+ALB+ARE+ARG+AUS+AUT+AZE+BEL+BEN+BGR+BH...   \n",
            "1         NaN                                                GBR   \n",
            "2         NaN                                                CAN   \n",
            "3  -92.998924                                                CAN   \n",
            "4         NaN                                                GHA   \n",
            "\n",
            "                                  geography2  ... parent_category_id notes  \\\n",
            "0                                     USA-LA  ...                NaN   NaN   \n",
            "1  USA-AL+USA-AR+USA-LA+USA-MS+USA-NM+USA-TX  ...                NaN   NaN   \n",
            "2         USA-CO+USA-ID+USA-MT+USA-UT+USA-WY  ...                NaN   NaN   \n",
            "3                                     USA-MN  ...                NaN   NaN   \n",
            "4                                     USA-DE  ...                NaN   NaN   \n",
            "\n",
            "  childseries relation_id bar_facets stack_facets geoset_ids summable  \\\n",
            "0         NaN         NaN        NaN          NaN        NaN      NaN   \n",
            "1         NaN         NaN        NaN          NaN        NaN      NaN   \n",
            "2         NaN         NaN        NaN          NaN        NaN      NaN   \n",
            "3         NaN         NaN        NaN          NaN        NaN      NaN   \n",
            "4         NaN         NaN        NaN          NaN        NaN      NaN   \n",
            "\n",
            "  vertex.name vertex.geoset_id  \n",
            "0         NaN              NaN  \n",
            "1         NaN              NaN  \n",
            "2         NaN              NaN  \n",
            "3         NaN              NaN  \n",
            "4         NaN              NaN  \n",
            "\n",
            "[5 rows x 27 columns]\n"
          ]
        }
      ]
    },
    {
      "cell_type": "code",
      "source": [
        "# # Exploratory Data Analysis (EDA)\n",
        "# plt.figure(figsize=(14, 7))\n",
        "# plt.plot(df.index, df['value'], label='Actual Data')\n",
        "# plt.title('Imports of all grades of crude oil from Non-OPEC to New Orleans, LA')\n",
        "# plt.xlabel('Date')\n",
        "# plt.ylabel('Thousand Barrels')\n",
        "# plt.grid(True)\n",
        "# plt.legend()\n",
        "# plt.show()\n",
        "\n",
        "# # Apply Conformal Prediction for Forecasting\n",
        "# # Conformal prediction setup\n",
        "# def conformal_interval(y_true, y_pred, alpha=0.1):\n",
        "#     residuals = np.abs(y_true - y_pred)\n",
        "#     q = np.quantile(residuals, 1 - alpha)\n",
        "#     return q"
      ],
      "metadata": {
        "id": "r7jOX85C0hz_"
      },
      "execution_count": 14,
      "outputs": []
    },
    {
      "cell_type": "code",
      "source": [
        "# # Prepare data for training\n",
        "# train_size = int(len(df) * 0.8)\n",
        "# train, test = df.iloc[:train_size], df.iloc[train_size:]\n",
        "\n",
        "# X_train = np.array(train.index.map(pd.Timestamp.toordinal)).reshape(-1, 1)\n",
        "# y_train = train['value'].values\n",
        "\n",
        "# X_test = np.array(test.index.map(pd.Timestamp.toordinal)).reshape(-1, 1)\n",
        "# y_test = test['value'].values\n",
        "\n",
        "# # Train a simple linear regression model\n",
        "# model = LinearRegression()\n",
        "# model.fit(X_train, y_train)\n",
        "# y_pred_train = model.predict(X_train)\n",
        "# y_pred_test = model.predict(X_test)\n",
        "\n",
        "# # Calculate conformal prediction intervals\n",
        "# q = conformal_interval(y_train, y_pred_train, alpha=0.1)\n",
        "# interval_upper = y_pred_test + q\n",
        "# interval_lower = y_pred_test - q\n",
        "\n",
        "# # Statsmodels for confidence intervals\n",
        "# X_train_sm = sm.add_constant(X_train)\n",
        "# X_test_sm = sm.add_constant(X_test)\n",
        "# model_sm = sm.OLS(y_train, X_train_sm).fit()\n",
        "# predictions = model_sm.get_prediction(X_test_sm)\n",
        "# pred_int = predictions.conf_int(alpha=0.1)  # 90% confidence interval"
      ],
      "metadata": {
        "id": "BoBg4cc35Zhb"
      },
      "execution_count": 5,
      "outputs": []
    },
    {
      "cell_type": "code",
      "source": [
        "# # Plot the results with conformal intervals and confidence intervals\n",
        "# plt.figure(figsize=(14, 7))\n",
        "# plt.plot(df.index, df['value'], label='Actual', color='blue')\n",
        "# plt.plot(test.index, y_pred_test, label='Forecast', color='orange')\n",
        "# plt.fill_between(test.index, interval_lower, interval_upper, color='gray', alpha=0.2, label='Conformal Prediction Interval')\n",
        "# plt.fill_between(test.index, pred_int[:, 0], pred_int[:, 1], color='green', alpha=0.2, label='Confidence Interval (90%)')\n",
        "# plt.title('Conformal Prediction for Crude Oil Imports Forecasting')\n",
        "# plt.xlabel('Date')\n",
        "# plt.ylabel('Thousand Barrels')\n",
        "# plt.legend()\n",
        "# plt.grid(True)\n",
        "# plt.show()"
      ],
      "metadata": {
        "id": "OrYDjsYE5d8O"
      },
      "execution_count": 15,
      "outputs": []
    }
  ]
}