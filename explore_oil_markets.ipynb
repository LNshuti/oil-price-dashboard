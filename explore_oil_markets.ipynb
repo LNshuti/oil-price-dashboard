{
 "cells": [
  {
   "cell_type": "code",
   "execution_count": 1,
   "id": "c6ed01ae",
   "metadata": {},
   "outputs": [],
   "source": [
    "# Import necessary libraries\n",
    "import os\n",
    "import pandas as pd\n",
    "import numpy as np\n",
    "import json\n",
    "import matplotlib.pyplot as plt\n",
    "import seaborn as sns\n",
    "import statsmodels.api as sm\n",
    "from sklearn.model_selection import train_test_split\n",
    "from sklearn.linear_model import LinearRegression\n",
    "from sklearn.metrics import mean_absolute_error, mean_squared_error\n",
    "import eia\n",
    "\n",
    "# Set plotting style\n",
    "sns.set(style='whitegrid')"
   ]
  },
  {
   "cell_type": "code",
   "execution_count": null,
   "metadata": {},
   "outputs": [],
   "source": [
    "# Load the data from the text file\n",
    "data = pd.read_csv('data/raw/PET/PET.txt', sep='\\t', header=None, names=['json_str'])\n",
    "\n",
    "# Function to parse JSON strings\n",
    "def parse_json_str(json_str):\n",
    "    return json.loads(json_str)\n",
    "\n",
    "# Apply the function to parse the JSON strings\n",
    "parsed_data = data['json_str'].apply(parse_json_str)\n",
    "\n",
    "# Create a DataFrame from the parsed JSON data\n",
    "df = pd.json_normalize(parsed_data)\n",
    "\n",
    "# Display the first few rows of the DataFrame\n",
    "print(df.head())"
   ]
  },
  {
   "cell_type": "code",
   "execution_count": null,
   "metadata": {},
   "outputs": [],
   "source": [
    "df.columns"
   ]
  },
  {
   "cell_type": "code",
   "execution_count": null,
   "id": "a4b9020d",
   "metadata": {},
   "outputs": [],
   "source": [
    "# Sample this list to see ten random elements\n",
    "df_list = df['data'].tolist()\n",
    "print(df_list[:2])"
   ]
  },
  {
   "cell_type": "code",
   "execution_count": null,
   "id": "f9482765",
   "metadata": {},
   "outputs": [],
   "source": [
    "# Explode the 'data' column to separate rows for each date-value pair\n",
    "df = df.explode('data')\n",
    "df.head()"
   ]
  },
  {
   "cell_type": "code",
   "execution_count": null,
   "id": "5ec9beb6",
   "metadata": {},
   "outputs": [],
   "source": [
    "# Select distinct series_id, name, units\n",
    "df_series = df[['series_id', 'name', 'units']].drop_duplicates()\n",
    "df_series.head()"
   ]
  },
  {
   "cell_type": "code",
   "execution_count": null,
   "id": "1f58e2a2",
   "metadata": {},
   "outputs": [],
   "source": [
    "# Filter df to only include name containing 'Louisiana' and units in Dollars per Gallon\n",
    "df = df[df['name'].str.contains('Louisiana Total') & df['units'].str.contains('Dollars per Gallon')]\n",
    "df"
   ]
  },
  {
   "cell_type": "code",
   "execution_count": null,
   "id": "b17028f0",
   "metadata": {},
   "outputs": [],
   "source": [
    "# Drop rows where 'data' is NaN or not a list\n",
    "df = df.dropna(subset=['data'])\n",
    "df = df[df['data'].apply(lambda x: isinstance(x, list) and len(x) == 2)]\n",
    "df.head()"
   ]
  },
  {
   "cell_type": "code",
   "execution_count": null,
   "id": "ba622fef",
   "metadata": {},
   "outputs": [],
   "source": [
    "# Split 'data' column into 'date' and 'value'\n",
    "df[['date', 'value']] = pd.DataFrame(df['data'].tolist(), index=df.index)\n",
    "df"
   ]
  },
  {
   "cell_type": "code",
   "execution_count": null,
   "id": "4c1f1e8c",
   "metadata": {},
   "outputs": [],
   "source": [
    "df"
   ]
  },
  {
   "cell_type": "code",
   "execution_count": null,
   "id": "e5718761",
   "metadata": {},
   "outputs": [],
   "source": [
    "# Convert 'date' to datetime, coercing errors to NaT\n",
    "df['date'] = pd.to_datetime(df['date'], format='%Y%m%d', errors='coerce')\n",
    "# Convert 'value' to a numeric type, coercing errors to NaN\n",
    "df['value'] = pd.to_numeric(df['value'], errors='coerce')\n",
    "df"
   ]
  },
  {
   "cell_type": "code",
   "execution_count": null,
   "id": "45ed4661",
   "metadata": {},
   "outputs": [],
   "source": [
    "# Extract relevant columns and preprocess the data\n",
    "df['Date'] = pd.to_datetime(df['date'])\n",
    "df['Price'] = df['value']\n",
    "df = df[['Date', 'Price']].sort_values(by='Date').reset_index(drop=True)\n",
    "\n",
    "df.tail()"
   ]
  },
  {
   "cell_type": "code",
   "execution_count": null,
   "id": "f1729291",
   "metadata": {},
   "outputs": [],
   "source": [
    "# Drop the original 'data' column if no longer needed\n",
    "df.drop(columns=['data'], inplace=True)\n",
    "df"
   ]
  },
  {
   "cell_type": "code",
   "execution_count": null,
   "metadata": {},
   "outputs": [],
   "source": [
    "# Get distinct series_id, name pairs\n",
    "series_names = df[['series_id', 'name']].drop_duplicates()\n",
    "series_names"
   ]
  },
  {
   "cell_type": "code",
   "execution_count": null,
   "id": "bd97269a",
   "metadata": {},
   "outputs": [],
   "source": [
    "# Plot time series data for different series\n",
    "plt.figure(figsize=(14, 7))\n",
    "for series in df['series_id'].unique():\n",
    "    subset = df[df['series_id'] == series]\n",
    "    plt.plot(subset['date'], subset['value'], label=subset['name'].iloc[0])\n",
    "\n",
    "plt.xlabel('Date')\n",
    "plt.ylabel('Price (Dollars per Gallon)')\n",
    "plt.title('Oil Prices Over Time')\n",
    "plt.legend()\n",
    "plt.show()\n",
    "\n",
    "# Summary statistics\n",
    "print(df.describe())"
   ]
  },
  {
   "cell_type": "code",
   "execution_count": null,
   "id": "688d7470",
   "metadata": {},
   "outputs": [],
   "source": [
    "# Filter the dataset for a specific series_id for forecasting\n",
    "series_id = 'PET.EMM_EPMPR_PTE_Y35NY_DPG.W'  # Example series_id\n",
    "df_series = df[df['series_id'] == series_id][['date', 'value']].rename(columns={'date': 'ds', 'value': 'y'})\n",
    "\n",
    "# Display the first few rows of the filtered DataFrame\n",
    "print(df_series.head())"
   ]
  },
  {
   "cell_type": "code",
   "execution_count": null,
   "id": "b6bb2696",
   "metadata": {},
   "outputs": [],
   "source": [
    "# Assuming df_series is a DataFrame with two columns: 'ds' for dates and 'y' for values\n",
    "# Convert 'ds' from datetime to ordinal\n",
    "df_series['ds_ordinal'] = df_series['ds'].apply(lambda x: x.toordinal())\n",
    "\n",
    "# Split data into features and target\n",
    "X = df_series[['ds_ordinal']]\n",
    "y = df_series['y']\n",
    "\n",
    "# Split the data into training and testing sets\n",
    "X_train, X_test, y_train, y_test = train_test_split(X, y, test_size=0.2, random_state=42)\n",
    "\n",
    "# Initialize and fit the Linear Regression model\n",
    "model = LinearRegression()\n",
    "model.fit(X_train, y_train)\n",
    "\n",
    "# Predict using the model\n",
    "y_pred = model.predict(X_test)\n",
    "\n",
    "# To forecast future dates, create a DataFrame for future dates and convert to ordinal\n",
    "future_dates = pd.date_range(start=df_series['ds'].max(), periods=365, freq='D')\n",
    "future_dates_ordinal = future_dates.to_series().apply(lambda x: x.toordinal()).values.reshape(-1, 1)\n",
    "\n",
    "# Forecast future values\n",
    "future_forecast = model.predict(future_dates_ordinal)\n",
    "\n",
    "# Plot the forecast\n",
    "plt.figure(figsize=(10, 6))\n",
    "plt.scatter(df_series['ds'], y, color='black', label='Actual')\n",
    "plt.plot(future_dates, future_forecast, color='blue', label='Forecast')\n",
    "plt.title('Oil Price Forecast')\n",
    "plt.xlabel('Date')\n",
    "plt.ylabel('Price (Dollars per Gallon)')\n",
    "plt.legend()\n",
    "plt.show()"
   ]
  },
  {
   "cell_type": "code",
   "execution_count": null,
   "id": "c692bd3f",
   "metadata": {},
   "outputs": [],
   "source": [
    "# Convert 'ds' to ordinal\n",
    "df_series['ds_ordinal'] = df_series['ds'].apply(lambda x: x.toordinal())\n",
    "\n",
    "# Split data into training and testing sets\n",
    "train = df_series[df_series['ds'] < '2023-01-01']\n",
    "test = df_series[df_series['ds'] >= '2023-01-01']\n",
    "\n",
    "# Prepare the features and target variables\n",
    "X_train = train[['ds_ordinal']]\n",
    "y_train = train['y']\n",
    "X_test = test[['ds_ordinal']]\n",
    "y_test = test['y']\n",
    "\n",
    "# Initialize and train the Linear Regression model\n",
    "model = LinearRegression()\n",
    "model.fit(X_train, y_train)\n",
    "\n",
    "# Make predictions on the test set\n",
    "y_pred = model.predict(X_test)\n",
    "\n",
    "# Calculate MAE and RMSE\n",
    "mae = mean_absolute_error(y_test, y_pred)\n",
    "rmse = mean_squared_error(y_test, y_pred, squared=False)\n",
    "\n",
    "print(f'MAE: {mae}')\n",
    "print(f'RMSE: {rmse}')\n",
    "\n",
    "# Plot actual vs predicted values\n",
    "plt.figure(figsize=(14, 7))\n",
    "plt.plot(test['ds'], y_test, label='Actual')\n",
    "plt.plot(test['ds'], y_pred, label='Predicted')\n",
    "plt.xlabel('Date')\n",
    "plt.ylabel('Price (Dollars per Gallon)')\n",
    "plt.title('Actual vs Predicted Oil Prices')\n",
    "plt.legend()\n",
    "plt.show()"
   ]
  },
  {
   "cell_type": "code",
   "execution_count": null,
   "id": "cf3fac06",
   "metadata": {},
   "outputs": [],
   "source": [
    "# # Save the model\n",
    "# import joblib\n",
    "# joblib.dump(model, 'models/oil_price_forecast_model.pkl')"
   ]
  }
 ],
 "metadata": {
  "kernelspec": {
   "display_name": "Python 3",
   "language": "python",
   "name": "python3"
  },
  "language_info": {
   "codemirror_mode": {
    "name": "ipython",
    "version": 3
   },
   "file_extension": ".py",
   "mimetype": "text/x-python",
   "name": "python",
   "nbconvert_exporter": "python",
   "pygments_lexer": "ipython3",
   "version": "3.11.9"
  }
 },
 "nbformat": 4,
 "nbformat_minor": 5
}
